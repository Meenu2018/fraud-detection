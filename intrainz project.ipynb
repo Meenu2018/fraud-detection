{
 "cells": [
  {
   "cell_type": "code",
   "execution_count": 1,
   "id": "12481bee",
   "metadata": {},
   "outputs": [],
   "source": [
    "import pandas as pd\n",
    "import numpy as np\n",
    "from sklearn.model_selection import train_test_split\n",
    "from sklearn.preprocessing import LabelEncoder, StandardScaler\n",
    "from sklearn.ensemble import RandomForestClassifier\n",
    "from sklearn.metrics import confusion_matrix, classification_report\n",
    "import matplotlib.pyplot as plt"
   ]
  },
  {
   "cell_type": "code",
   "execution_count": 2,
   "id": "a1f5f3c1",
   "metadata": {},
   "outputs": [
    {
     "name": "stdout",
     "output_type": "stream",
     "text": [
      "   step      type    amount     nameOrig  oldbalanceOrg  newbalanceOrig  \\\n",
      "0     1   PATMENT   9839.64  C1231006815         170136       160296.36   \n",
      "1     1   PAYMENT   1864.28  C1666544295          21249        19384.72   \n",
      "2     1  TRANSFER    181.00  C1305486145            181            0.00   \n",
      "3     1  CASH_OUT    181.00   C840083671            181            0.00   \n",
      "4     1   PAYMENT  11668.14  C2048537720          41554        29885.86   \n",
      "\n",
      "      nameDest  oldbalanceDest  newbalanceDest  isFraud  isFlaggedFraud  \n",
      "0   M197987155               0               0        0               0  \n",
      "1  M2044282225               0               0        0               0  \n",
      "2   C553264065               0               0        1               0  \n",
      "3    C38997010           21182               0        1               0  \n",
      "4  M1230701703               0               0        0               0  \n",
      "<class 'pandas.core.frame.DataFrame'>\n",
      "RangeIndex: 5 entries, 0 to 4\n",
      "Data columns (total 11 columns):\n",
      " #   Column          Non-Null Count  Dtype  \n",
      "---  ------          --------------  -----  \n",
      " 0   step            5 non-null      int64  \n",
      " 1   type            5 non-null      object \n",
      " 2   amount          5 non-null      float64\n",
      " 3   nameOrig        5 non-null      object \n",
      " 4   oldbalanceOrg   5 non-null      int64  \n",
      " 5   newbalanceOrig  5 non-null      float64\n",
      " 6   nameDest        5 non-null      object \n",
      " 7   oldbalanceDest  5 non-null      int64  \n",
      " 8   newbalanceDest  5 non-null      int64  \n",
      " 9   isFraud         5 non-null      int64  \n",
      " 10  isFlaggedFraud  5 non-null      int64  \n",
      "dtypes: float64(2), int64(6), object(3)\n",
      "memory usage: 568.0+ bytes\n",
      "None\n",
      "       step        amount  oldbalanceOrg  newbalanceOrig  oldbalanceDest  \\\n",
      "count   5.0      5.000000       5.000000        5.000000         5.00000   \n",
      "mean    1.0   4746.812000   46660.200000    41913.388000      4236.40000   \n",
      "std     0.0   5564.259778   71131.405889    67416.975901      9472.87838   \n",
      "min     1.0    181.000000     181.000000        0.000000         0.00000   \n",
      "25%     1.0    181.000000     181.000000        0.000000         0.00000   \n",
      "50%     1.0   1864.280000   21249.000000    19384.720000         0.00000   \n",
      "75%     1.0   9839.640000   41554.000000    29885.860000         0.00000   \n",
      "max     1.0  11668.140000  170136.000000   160296.360000     21182.00000   \n",
      "\n",
      "       newbalanceDest   isFraud  isFlaggedFraud  \n",
      "count             5.0  5.000000             5.0  \n",
      "mean              0.0  0.400000             0.0  \n",
      "std               0.0  0.547723             0.0  \n",
      "min               0.0  0.000000             0.0  \n",
      "25%               0.0  0.000000             0.0  \n",
      "50%               0.0  0.000000             0.0  \n",
      "75%               0.0  1.000000             0.0  \n",
      "max               0.0  1.000000             0.0  \n"
     ]
    }
   ],
   "source": [
    "data = pd.read_csv('mldataset.csv')\n",
    "\n",
    "print(data.head())\n",
    "print(data.info())\n",
    "print(data.describe())"
   ]
  },
  {
   "cell_type": "code",
   "execution_count": 3,
   "id": "80fa5773",
   "metadata": {},
   "outputs": [],
   "source": [
    "\n",
    "data.dropna(inplace=True)\n",
    "\n",
    "\n",
    "label_encoder = LabelEncoder()\n",
    "data['type'] = label_encoder.fit_transform(data['type'])\n",
    "data['nameOrig'] = label_encoder.fit_transform(data['nameOrig'])\n",
    "data['nameDest'] = label_encoder.fit_transform(data['nameDest'])\n",
    "\n",
    "\n",
    "scaler = StandardScaler()\n",
    "data[['amount', 'oldbalanceOrg', 'newbalanceOrig', 'oldbalanceDest', 'newbalanceDest']] = \\\n",
    "    scaler.fit_transform(data[['amount', 'oldbalanceOrg', 'newbalanceOrig', 'oldbalanceDest', 'newbalanceDest']])"
   ]
  },
  {
   "cell_type": "code",
   "execution_count": 4,
   "id": "811cebf1",
   "metadata": {},
   "outputs": [],
   "source": [
    "X = data.drop('isFraud', axis=1)\n",
    "y = data['isFraud']\n",
    "\n",
    "X_train, X_test, y_train, y_test = train_test_split(X, y, test_size=0.2, random_state=42)"
   ]
  },
  {
   "cell_type": "code",
   "execution_count": 6,
   "id": "f68aae2f",
   "metadata": {},
   "outputs": [
    {
     "data": {
      "text/plain": [
       "RandomForestClassifier()"
      ]
     },
     "execution_count": 6,
     "metadata": {},
     "output_type": "execute_result"
    }
   ],
   "source": [
    "classifier = RandomForestClassifier()\n",
    "classifier.fit(X_train, y_train)"
   ]
  },
  {
   "cell_type": "code",
   "execution_count": 7,
   "id": "e1ad4a28",
   "metadata": {},
   "outputs": [
    {
     "name": "stdout",
     "output_type": "stream",
     "text": [
      "[[1]]\n",
      "              precision    recall  f1-score   support\n",
      "\n",
      "           0       1.00      1.00      1.00         1\n",
      "\n",
      "    accuracy                           1.00         1\n",
      "   macro avg       1.00      1.00      1.00         1\n",
      "weighted avg       1.00      1.00      1.00         1\n",
      "\n"
     ]
    }
   ],
   "source": [
    "y_pred = classifier.predict(X_test)\n",
    "\n",
    "print(confusion_matrix(y_test, y_pred))\n",
    "print(classification_report(y_test, y_pred))"
   ]
  },
  {
   "cell_type": "code",
   "execution_count": 8,
   "id": "cd33d2a0",
   "metadata": {},
   "outputs": [
    {
     "data": {
      "image/png": "[encoded data removed]",
      "text/plain": [
       "<Figure size 432x288 with 1 Axes>"
      ]
     },
     "metadata": {
      "needs_background": "light"
     },
     "output_type": "display_data"
    }
   ],
   "source": [
    "importance = classifier.feature_importances_\n",
    "feature_names = X.columns\n",
    "sorted_indices = np.argsort(importance)\n",
    "\n",
    "plt.barh(range(len(feature_names)), importance[sorted_indices])\n",
    "plt.yticks(range(len(feature_names)), feature_names[sorted_indices])\n",
    "plt.xlabel('Feature Importance')\n",
    "plt.show()"
   ]
  },
  {
   "cell_type": "code",
   "execution_count": null,
   "id": "170cd7fd",
   "metadata": {},
   "outputs": [],
   "source": []
  }
 ],
 "metadata": {
  "kernelspec": {
   "display_name": "Python 3 (ipykernel)",
   "language": "python",
   "name": "python3"
  },
  "language_info": {
   "codemirror_mode": {
    "name": "ipython",
    "version": 3
   },
   "file_extension": ".py",
   "mimetype": "text/x-python",
   "name": "python",
   "nbconvert_exporter": "python",
   "pygments_lexer": "ipython3",
   "version": "3.10.8"
  }
 },
 "nbformat": 4,
 "nbformat_minor": 5
}
